{
  "cells": [
    {
      "cell_type": "code",
      "execution_count": 36,
      "metadata": {
        "id": "7kBvaYvDfUN4"
      },
      "outputs": [],
      "source": [
        "import pandas as pd\n",
        "url='/content/drive/MyDrive/housing.csv'"
      ]
    },
    {
      "cell_type": "code",
      "execution_count": 37,
      "metadata": {
        "colab": {
          "base_uri": "https://localhost:8080/"
        },
        "id": "veUw7_cMhPn7",
        "outputId": "470d3468-506c-4318-fd8f-876e4dbf4af0"
      },
      "outputs": [
        {
          "name": "stdout",
          "output_type": "stream",
          "text": [
            "a) Data Description:\n",
            "          longitude      latitude  housing_median_age   total_rooms  \\\n",
            "count  20640.000000  20640.000000        20640.000000  20640.000000   \n",
            "mean    -119.569704     35.631861           28.639486   2635.763081   \n",
            "std        2.003532      2.135952           12.585558   2181.615252   \n",
            "min     -124.350000     32.540000            1.000000      2.000000   \n",
            "25%     -121.800000     33.930000           18.000000   1447.750000   \n",
            "50%     -118.490000     34.260000           29.000000   2127.000000   \n",
            "75%     -118.010000     37.710000           37.000000   3148.000000   \n",
            "max     -114.310000     41.950000           52.000000  39320.000000   \n",
            "\n",
            "       total_bedrooms    population    households  median_income  \\\n",
            "count    20433.000000  20640.000000  20640.000000   20640.000000   \n",
            "mean       537.870553   1425.476744    499.539680       3.870671   \n",
            "std        421.385070   1132.462122    382.329753       1.899822   \n",
            "min          1.000000      3.000000      1.000000       0.499900   \n",
            "25%        296.000000    787.000000    280.000000       2.563400   \n",
            "50%        435.000000   1166.000000    409.000000       3.534800   \n",
            "75%        647.000000   1725.000000    605.000000       4.743250   \n",
            "max       6445.000000  35682.000000   6082.000000      15.000100   \n",
            "\n",
            "       median_house_value  \n",
            "count        20640.000000  \n",
            "mean        206855.816909  \n",
            "std         115395.615874  \n",
            "min          14999.000000  \n",
            "25%         119600.000000  \n",
            "50%         179700.000000  \n",
            "75%         264725.000000  \n",
            "max         500001.000000  \n"
          ]
        }
      ],
      "source": [
        "housing_data=pd.read_csv(url)\n",
        "data_description=housing_data.describe()\n",
        "print(\"a) Data Description:\")\n",
        "print(data_description)"
      ]
    },
    {
      "cell_type": "code",
      "execution_count": 38,
      "metadata": {
        "colab": {
          "base_uri": "https://localhost:8080/"
        },
        "id": "B0IxBHuAhSfn",
        "outputId": "55bee97e-e96d-4b7d-e2e6-b934fa7a3e71"
      },
      "outputs": [
        {
          "name": "stdout",
          "output_type": "stream",
          "text": [
            "\n",
            "b) Data Types:\n",
            "longitude             float64\n",
            "latitude              float64\n",
            "housing_median_age    float64\n",
            "total_rooms           float64\n",
            "total_bedrooms        float64\n",
            "population            float64\n",
            "households            float64\n",
            "median_income         float64\n",
            "median_house_value    float64\n",
            "ocean_proximity        object\n",
            "dtype: object\n",
            "\n",
            "Shape of the Data:\n",
            "(20640, 10)\n"
          ]
        }
      ],
      "source": [
        "data_types=housing_data.dtypes\n",
        "data_shape=housing_data.shape\n",
        "print(\"\\nb) Data Types:\")\n",
        "print(data_types)\n",
        "print(\"\\nShape of the Data:\")\n",
        "print(data_shape)"
      ]
    },
    {
      "cell_type": "code",
      "execution_count": 39,
      "metadata": {
        "colab": {
          "base_uri": "https://localhost:8080/"
        },
        "id": "B9EEjs1hhYtj",
        "outputId": "239e75ad-c2f4-476c-c5fc-881cb0f53b7b"
      },
      "outputs": [
        {
          "name": "stdout",
          "output_type": "stream",
          "text": [
            "\n",
            "c) Null Values:\n",
            "longitude               0\n",
            "latitude                0\n",
            "housing_median_age      0\n",
            "total_rooms             0\n",
            "total_bedrooms        207\n",
            "population              0\n",
            "households              0\n",
            "median_income           0\n",
            "median_house_value      0\n",
            "ocean_proximity         0\n",
            "dtype: int64\n",
            "\n",
            "Data after filling null values:\n",
            "       longitude  latitude  housing_median_age  total_rooms  total_bedrooms  \\\n",
            "0        -122.23     37.88                41.0        880.0           129.0   \n",
            "1        -122.22     37.86                21.0       7099.0          1106.0   \n",
            "2        -122.24     37.85                52.0       1467.0           190.0   \n",
            "3        -122.25     37.85                52.0       1274.0           235.0   \n",
            "4        -122.25     37.85                52.0       1627.0           280.0   \n",
            "...          ...       ...                 ...          ...             ...   \n",
            "20635    -121.09     39.48                25.0       1665.0           374.0   \n",
            "20636    -121.21     39.49                18.0        697.0           150.0   \n",
            "20637    -121.22     39.43                17.0       2254.0           485.0   \n",
            "20638    -121.32     39.43                18.0       1860.0           409.0   \n",
            "20639    -121.24     39.37                16.0       2785.0           616.0   \n",
            "\n",
            "       population  households  median_income  median_house_value  \\\n",
            "0           322.0       126.0         8.3252            452600.0   \n",
            "1          2401.0      1138.0         8.3014            358500.0   \n",
            "2           496.0       177.0         7.2574            352100.0   \n",
            "3           558.0       219.0         5.6431            341300.0   \n",
            "4           565.0       259.0         3.8462            342200.0   \n",
            "...           ...         ...            ...                 ...   \n",
            "20635       845.0       330.0         1.5603             78100.0   \n",
            "20636       356.0       114.0         2.5568             77100.0   \n",
            "20637      1007.0       433.0         1.7000             92300.0   \n",
            "20638       741.0       349.0         1.8672             84700.0   \n",
            "20639      1387.0       530.0         2.3886             89400.0   \n",
            "\n",
            "      ocean_proximity  \n",
            "0            NEAR BAY  \n",
            "1            NEAR BAY  \n",
            "2            NEAR BAY  \n",
            "3            NEAR BAY  \n",
            "4            NEAR BAY  \n",
            "...               ...  \n",
            "20635          INLAND  \n",
            "20636          INLAND  \n",
            "20637          INLAND  \n",
            "20638          INLAND  \n",
            "20639          INLAND  \n",
            "\n",
            "[20640 rows x 10 columns]\n"
          ]
        }
      ],
      "source": [
        "null_values = housing_data.isnull().sum()\n",
        "housing_data_filled = housing_data.fillna(0)\n",
        "print(\"\\nc) Null Values:\")\n",
        "print(null_values)\n",
        "print(\"\\nData after filling null values:\")\n",
        "print(housing_data_filled)"
      ]
    },
    {
      "cell_type": "code",
      "execution_count": 40,
      "metadata": {
        "colab": {
          "base_uri": "https://localhost:8080/"
        },
        "id": "GgD7ru6jjuGD",
        "outputId": "e3d62fcb-5556-4ad5-e22e-93405daa00ec"
      },
      "outputs": [
        {
          "name": "stdout",
          "output_type": "stream",
          "text": [
            "\n",
            "b) Features without 'ocean_proximity':        longitude  latitude  housing_median_age  total_rooms  total_bedrooms  \\\n",
            "0        -122.23     37.88                41.0        880.0           129.0   \n",
            "1        -122.22     37.86                21.0       7099.0          1106.0   \n",
            "2        -122.24     37.85                52.0       1467.0           190.0   \n",
            "3        -122.25     37.85                52.0       1274.0           235.0   \n",
            "4        -122.25     37.85                52.0       1627.0           280.0   \n",
            "...          ...       ...                 ...          ...             ...   \n",
            "20635    -121.09     39.48                25.0       1665.0           374.0   \n",
            "20636    -121.21     39.49                18.0        697.0           150.0   \n",
            "20637    -121.22     39.43                17.0       2254.0           485.0   \n",
            "20638    -121.32     39.43                18.0       1860.0           409.0   \n",
            "20639    -121.24     39.37                16.0       2785.0           616.0   \n",
            "\n",
            "       population  households  median_income  median_house_value  \n",
            "0           322.0       126.0         8.3252            452600.0  \n",
            "1          2401.0      1138.0         8.3014            358500.0  \n",
            "2           496.0       177.0         7.2574            352100.0  \n",
            "3           558.0       219.0         5.6431            341300.0  \n",
            "4           565.0       259.0         3.8462            342200.0  \n",
            "...           ...         ...            ...                 ...  \n",
            "20635       845.0       330.0         1.5603             78100.0  \n",
            "20636       356.0       114.0         2.5568             77100.0  \n",
            "20637      1007.0       433.0         1.7000             92300.0  \n",
            "20638       741.0       349.0         1.8672             84700.0  \n",
            "20639      1387.0       530.0         2.3886             89400.0  \n",
            "\n",
            "[20640 rows x 9 columns]\n"
          ]
        }
      ],
      "source": [
        "data = pd.read_csv('housing.csv')\n",
        "features_without_categorical = data.drop('ocean_proximity', axis=1)\n",
        "print(\"\\nb) Features without 'ocean_proximity':\",features_without_categorical)"
      ]
    },
    {
      "cell_type": "code",
      "execution_count": 41,
      "metadata": {
        "colab": {
          "base_uri": "https://localhost:8080/"
        },
        "id": "6o0blQZXopEQ",
        "outputId": "b1296544-cef8-44a3-8060-1b880fae003f"
      },
      "outputs": [
        {
          "name": "stdout",
          "output_type": "stream",
          "text": [
            "\n",
            "b) Normalized Features:\n",
            "[[0.21115538 0.5674814  0.78431373 ... 0.02055583 0.53966842 0.90226638]\n",
            " [0.21215139 0.565356   0.39215686 ... 0.18697583 0.53802706 0.70824656]\n",
            " [0.21015936 0.5642933  1.         ... 0.02894261 0.46602805 0.69505074]\n",
            " ...\n",
            " [0.31175299 0.73219979 0.31372549 ... 0.07104095 0.08276438 0.15938285]\n",
            " [0.30179283 0.73219979 0.33333333 ... 0.05722743 0.09429525 0.14371281]\n",
            " [0.30976096 0.72582359 0.29411765 ... 0.08699227 0.13025338 0.15340349]]\n"
          ]
        }
      ],
      "source": [
        "from sklearn.preprocessing import MinMaxScaler\n",
        "scaler = MinMaxScaler()\n",
        "features_normalized = scaler.fit_transform(features_without_categorical)\n",
        "print(\"\\nb) Normalized Features:\")\n",
        "print(features_normalized)"
      ]
    },
    {
      "cell_type": "code",
      "execution_count": 42,
      "metadata": {
        "colab": {
          "base_uri": "https://localhost:8080/"
        },
        "id": "f2M7lmWjtogE",
        "outputId": "e751516d-2e50-43c3-c405-b72f59c76621"
      },
      "outputs": [
        {
          "name": "stdout",
          "output_type": "stream",
          "text": [
            "\n",
            "c) Shapes of Train and Test Sets:\n",
            "X_train: (16512, 9)\n",
            "X_test: (4128, 9)\n",
            "y_train: (16512,)\n",
            "y_test: (4128,)\n"
          ]
        }
      ],
      "source": [
        "from sklearn.model_selection import train_test_split\n",
        "X_train, X_test, y_train, y_test=train_test_split(features_without_categorical, target, test_size=0.2, random_state=42)\n",
        "print(\"\\nc) Shapes of Train and Test Sets:\")\n",
        "print(\"X_train:\", X_train.shape)\n",
        "print(\"X_test:\", X_test.shape)\n",
        "print(\"y_train:\", y_train.shape)\n",
        "print(\"y_test:\", y_test.shape)"
      ]
    },
    {
      "cell_type": "code",
      "execution_count": 53,
      "metadata": {
        "colab": {
          "base_uri": "https://localhost:8080/"
        },
        "id": "FlSCHekEtrgc",
        "outputId": "b1d50ccb-d131-46eb-a7f2-fc69c674bacc"
      },
      "outputs": [
        {
          "name": "stdout",
          "output_type": "stream",
          "text": [
            "\n",
            "d)Mean Squared Error:\n",
            "1.8258450818974416e-11\n",
            "\n",
            "Coefficients:\n",
            "Intercept: -6.5279018599539995e-06\n",
            "Coefficients: [ 3.02751525e-11  3.72611444e-08  1.95692595e-08 -2.73053177e-10\n",
            "  6.83113577e-11 -6.68506223e-11 -6.30443441e-12  4.68669680e-11\n",
            " -1.42247929e-08  1.00000000e+00  5.72216733e-10  4.99553458e-11\n",
            " -2.54289236e-10 -3.84557511e-10  1.08055774e-10  8.70283937e-10\n",
            " -3.85812245e-10 -1.59601511e-10  5.83505466e-12  4.94095778e-10\n",
            "  1.72096691e-10 -1.36888620e-09 -3.71565043e-10  2.80397794e-09\n",
            "  1.21586380e-10 -3.21153104e-10  6.01219421e-12  1.46036000e-10\n",
            "  5.25911259e-11  4.93569630e-11  8.92182994e-11 -5.60427038e-10\n",
            " -1.57668878e-11 -9.89000548e-14  1.09884324e-13 -4.06481793e-12\n",
            " -4.44352888e-13  4.30314118e-12  6.96438872e-10 -1.31340251e-14\n",
            "  2.63010030e-11  1.15640102e-11 -6.33951711e-11  3.29449983e-11\n",
            "  1.15381663e-13  2.52464716e-13 -1.05869410e-11 -4.55278126e-10\n",
            "  1.53527364e-14  3.39723701e-11 -1.27263165e-11 -1.22260709e-13\n",
            "  3.50840902e-11 -2.37725117e-12  2.85687272e-17]\n"
          ]
        }
      ],
      "source": [
        "from sklearn.preprocessing import PolynomialFeatures\n",
        "from sklearn.pipeline import make_pipeline\n",
        "from sklearn.impute import SimpleImputer\n",
        "from sklearn.linear_model import LinearRegression\n",
        "from sklearn.metrics import mean_squared_error\n",
        "degree=2\n",
        "model=make_pipeline(SimpleImputer(strategy='mean'),PolynomialFeatures(degree),LinearRegression())\n",
        "model.fit(X_train, y_train)\n",
        "\n",
        "y_pred = model.predict(X_test)\n",
        "mse=mean_squared_error(y_test, y_pred)\n",
        "print(\"\\nd)Mean Squared Error:\")\n",
        "print(mse)\n",
        "\n",
        "print(\"\\nCoefficients:\")\n",
        "print(\"Intercept:\", model.named_steps['linearregression'].intercept_)\n",
        "print(\"Coefficients:\", model.named_steps['linearregression'].coef_)"
      ]
    }
  ],
  "metadata": {
    "colab": {
      "provenance": []
    },
    "kernelspec": {
      "display_name": "Python 3",
      "name": "python3"
    },
    "language_info": {
      "name": "python"
    }
  },
  "nbformat": 4,
  "nbformat_minor": 0
}
