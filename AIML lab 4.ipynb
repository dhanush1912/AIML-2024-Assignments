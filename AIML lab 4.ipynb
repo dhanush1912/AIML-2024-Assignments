{
 "cells": [
  {
   "cell_type": "code",
   "execution_count": 27,
   "metadata": {},
   "outputs": [
    {
     "name": "stdout",
     "output_type": "stream",
     "text": [
      "The optimal value is : 4\n"
     ]
    }
   ],
   "source": [
    "def minmax(depth, node_index, maximizing_player, values):\n",
    "    if depth == 3:\n",
    "        return values[node_index]\n",
    "\n",
    "    if maximizing_player:\n",
    "        return max(minmax(depth + 1, node_index * 2, False, values),\n",
    "                   minmax(depth + 1, node_index * 2 + 1, False, values))\n",
    "    else:\n",
    "        return min(minmax(depth + 1, node_index * 2, True, values),\n",
    "                   minmax(depth + 1, node_index * 2 + 1, True, values))\n",
    "\n",
    "values = [-1 ,4 ,2 ,6 ,-3 ,-5 ,0 ,7]\n",
    "print(\"The optimal value is :\", minmax(0 ,0 ,True ,values))"
   ]
  },
  {
   "cell_type": "code",
   "execution_count": 28,
   "metadata": {},
   "outputs": [
    {
     "name": "stdout",
     "output_type": "stream",
     "text": [
      "The optimal value is : 4\n"
     ]
    }
   ],
   "source": [
    "def alphabeta(depth, node_index, maximizing_player, values, alpha, beta):\n",
    "    if depth == 3:\n",
    "        return values[node_index]\n",
    "\n",
    "    if maximizing_player:\n",
    "        max_val = -float('inf')\n",
    "        for i in range(0, 2):\n",
    "            val = alphabeta(depth + 1, node_index * 2 + i, False, values, alpha, beta)\n",
    "            max_val = max(max_val, val)\n",
    "            alpha = max(alpha, max_val)\n",
    "            if beta <= alpha:\n",
    "                break\n",
    "        return max_val\n",
    "    else:\n",
    "        min_val = float('inf')\n",
    "        for i in range(0, 2):\n",
    "            val = alphabeta(depth + 1, node_index * 2 + i, True, values, alpha, beta)\n",
    "            min_val = min(min_val, val)\n",
    "            beta = min(beta, min_val)\n",
    "            if beta <= alpha:\n",
    "                break\n",
    "        return min_val\n",
    "\n",
    "values = [-1 ,4 ,2 ,6 ,-3 ,-5 ,0 ,7]\n",
    "print(\"The optimal value is :\", alphabeta(0 ,0 ,True ,values, -float('inf'), float('inf')))"
   ]
  }
 ],
 "metadata": {
  "kernelspec": {
   "display_name": "Python 3",
   "language": "python",
   "name": "python3"
  },
  "language_info": {
   "codemirror_mode": {
    "name": "ipython",
    "version": 3
   },
   "file_extension": ".py",
   "mimetype": "text/x-python",
   "name": "python",
   "nbconvert_exporter": "python",
   "pygments_lexer": "ipython3",
   "version": "3.10.13"
  }
 },
 "nbformat": 4,
 "nbformat_minor": 2
}
